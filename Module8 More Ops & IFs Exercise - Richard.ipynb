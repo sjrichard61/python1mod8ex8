{
 "cells": [
  {
   "cell_type": "markdown",
   "metadata": {},
   "source": [
    "### Exercise 1\n",
    "Ask for an exam score and store that number. If the number is greater than 100, then print out 'You cannot have an exam score higher than 100'. If the number doesn't exceeed 100 but is greater than or equal to 75, then print out 'You did great on your exam!'. Otherwise if they scored lower than 75, then print out 'You need to study harder'."
   ]
  },
  {
   "cell_type": "code",
   "execution_count": 8,
   "metadata": {},
   "outputs": [
    {
     "name": "stdin",
     "output_type": "stream",
     "text": [
      "Enter your exam score: 109\n"
     ]
    },
    {
     "name": "stdout",
     "output_type": "stream",
     "text": [
      "You cannot have an exam score higher than 100.\n"
     ]
    }
   ],
   "source": [
    "score = float(input(f\"Enter your exam score:\"))\n",
    "if score > 100 :\n",
    "    print(f\"You cannot have an exam score higher than 100.\")\n",
    "elif score >= 75 :\n",
    "    print(f\"You did great on your exam!\")\n",
    "else :\n",
    "    print(f\"You need to study harder.\")"
   ]
  },
  {
   "cell_type": "code",
   "execution_count": 9,
   "metadata": {},
   "outputs": [
    {
     "name": "stdin",
     "output_type": "stream",
     "text": [
      "Enter your exam score: 89\n"
     ]
    },
    {
     "name": "stdout",
     "output_type": "stream",
     "text": [
      "You did great on your exam!\n"
     ]
    }
   ],
   "source": [
    "score = float(input(f\"Enter your exam score:\"))\n",
    "if score > 100 :\n",
    "    print(f\"You cannot have an exam score higher than 100.\")\n",
    "elif score >= 75 :\n",
    "    print(f\"You did great on your exam!\")\n",
    "else :\n",
    "    print(f\"You need to study harder.\")"
   ]
  },
  {
   "cell_type": "code",
   "execution_count": 10,
   "metadata": {},
   "outputs": [
    {
     "name": "stdin",
     "output_type": "stream",
     "text": [
      "Enter your exam score: 75\n"
     ]
    },
    {
     "name": "stdout",
     "output_type": "stream",
     "text": [
      "You did great on your exam!\n"
     ]
    }
   ],
   "source": [
    "score = float(input(f\"Enter your exam score:\"))\n",
    "if score > 100 :\n",
    "    print(f\"You cannot have an exam score higher than 100.\")\n",
    "elif score >= 75 :\n",
    "    print(f\"You did great on your exam!\")\n",
    "else :\n",
    "    print(f\"You need to study harder.\")"
   ]
  },
  {
   "cell_type": "code",
   "execution_count": 11,
   "metadata": {},
   "outputs": [
    {
     "name": "stdin",
     "output_type": "stream",
     "text": [
      "Enter your exam score: 50\n"
     ]
    },
    {
     "name": "stdout",
     "output_type": "stream",
     "text": [
      "You need to study harder.\n"
     ]
    }
   ],
   "source": [
    "score = float(input(f\"Enter your exam score:\"))\n",
    "if score > 100 :\n",
    "    print(f\"You cannot have an exam score higher than 100.\")\n",
    "elif score >= 75 :\n",
    "    print(f\"You did great on your exam!\")\n",
    "else :\n",
    "    print(f\"You need to study harder.\")"
   ]
  },
  {
   "cell_type": "code",
   "execution_count": null,
   "metadata": {},
   "outputs": [],
   "source": []
  },
  {
   "cell_type": "markdown",
   "metadata": {},
   "source": [
    "### Exercise 2\n",
    "Ask a user to enter two numbers and find their average. Then, print out the average and whether each number is below or above average. Determine if a function should be created or not.\n",
    "    "
   ]
  },
  {
   "cell_type": "code",
   "execution_count": 27,
   "metadata": {},
   "outputs": [
    {
     "name": "stdin",
     "output_type": "stream",
     "text": [
      "Enter first number: 45\n",
      "Enter second number: 75\n"
     ]
    },
    {
     "name": "stdout",
     "output_type": "stream",
     "text": [
      "The average of 45.0 and 75.0 is 60.0.\n"
     ]
    }
   ],
   "source": [
    "num1, num2 = float(input(f\"Enter first number:\")), float(input(f\"Enter second number:\")) #get the numbers\n",
    "avg = (num1 + num2)/2                                                                    #calculate the average of the numbers\n",
    "print(f\"The average of {num1} and {num2} is {avg}.\")                                     #print the numbers and their average"
   ]
  },
  {
   "cell_type": "code",
   "execution_count": 31,
   "metadata": {},
   "outputs": [],
   "source": [
    "def avgcheck (num,avg):                                        #define a function to check the numbers against their average\n",
    "    if num > avg :                                             #check if the number is obove average and print message if it is\n",
    "        print(f\"{num} is above the average of {avg}.\")\n",
    "    elif num < avg :                                           #check if the number is below average and print message if it is\n",
    "        print(f\"{num} is below the average of {avg}.\")\n",
    "    else :                                                     #check if the number is same as average and print message if it is\n",
    "        print(f\"{num} is same as the average of {avg}.\")\n",
    "    return"
   ]
  },
  {
   "cell_type": "code",
   "execution_count": 32,
   "metadata": {},
   "outputs": [
    {
     "name": "stdout",
     "output_type": "stream",
     "text": [
      "45.0 is below the average of 60.0.\n",
      "75.0 is above the average of 60.0.\n"
     ]
    }
   ],
   "source": [
    "avgcheck (num1,avg)\n",
    "avgcheck (num2,avg)"
   ]
  },
  {
   "cell_type": "markdown",
   "metadata": {},
   "source": [
    "### Exercise 3\n",
    "Write a function to convert a test score to a grade where  \n",
    " - 90 - 100: A\n",
    " - 80 - 89:  B\n",
    " - 70 - 79:  C\n",
    " - 60 - 69:  D\n",
    " - < 60   :  F\n",
    " \n",
    "If a score is not between 0 and 100 then print out an error message. In the program, ask the user for a score and then call your function. "
   ]
  },
  {
   "cell_type": "code",
   "execution_count": 33,
   "metadata": {},
   "outputs": [],
   "source": [
    "def score_conv (score) :\n",
    "    if score > 100 or score < 0 :\n",
    "        retval = \"Error, a valid test score must be between 0 and 100.\"\n",
    "    elif score >= 90 and score <= 100 :\n",
    "        retval = \"Your letter grade is A.\"\n",
    "    elif score >= 80 and score <= 89 :\n",
    "        retval = \"Your letter grade is B.\"\n",
    "    elif score >= 70 and score <= 79 :\n",
    "        retval = \"Your letter grade is C.\"\n",
    "    elif score >= 60 and score <= 69 :\n",
    "        retval = \"Your letter grade is D.\"\n",
    "    else :\n",
    "        retval = \"Your letter grade is F.\"\n",
    "    return retval\n",
    "        "
   ]
  },
  {
   "cell_type": "code",
   "execution_count": 40,
   "metadata": {},
   "outputs": [
    {
     "name": "stdin",
     "output_type": "stream",
     "text": [
      "Enter your test score: 87\n"
     ]
    }
   ],
   "source": [
    "score = int(input(f\"Enter your test score:\"))"
   ]
  },
  {
   "cell_type": "code",
   "execution_count": 41,
   "metadata": {},
   "outputs": [
    {
     "name": "stdout",
     "output_type": "stream",
     "text": [
      "Your letter grade is B.\n"
     ]
    }
   ],
   "source": [
    "print(f\"{score_conv(score)}\")"
   ]
  },
  {
   "cell_type": "markdown",
   "metadata": {},
   "source": [
    "### Exercise 4\n",
    "Convert following decimal number to a binary number by hand:\n",
    "\n",
    "    61\n",
    "    15\n",
    "    71\n",
    "    "
   ]
  },
  {
   "cell_type": "code",
   "execution_count": 42,
   "metadata": {},
   "outputs": [
    {
     "data": {
      "text/plain": [
       "'0b111101'"
      ]
     },
     "execution_count": 42,
     "metadata": {},
     "output_type": "execute_result"
    }
   ],
   "source": [
    "#decimal 61 conversion to binary:\n",
    "#61//2 = 30 and 61%2 = 1\n",
    "#30//2 = 15 and 30%2 = 0\n",
    "#15//2 = 7 and 15%2 = 1\n",
    "#7//2 = 3 and 7%2 = 1\n",
    "#3//2 = 1 and 3%2 = 1\n",
    "#1//2 = 0 and 1%2 = 1\n",
    "#therefore 61 decimal = 111101 binary\n",
    "bin(61)"
   ]
  },
  {
   "cell_type": "code",
   "execution_count": 47,
   "metadata": {},
   "outputs": [
    {
     "data": {
      "text/plain": [
       "'0b1111'"
      ]
     },
     "execution_count": 47,
     "metadata": {},
     "output_type": "execute_result"
    }
   ],
   "source": [
    "#15 decimal = 1111\n",
    "bin(15)"
   ]
  },
  {
   "cell_type": "code",
   "execution_count": 48,
   "metadata": {},
   "outputs": [
    {
     "data": {
      "text/plain": [
       "'0b1000111'"
      ]
     },
     "execution_count": 48,
     "metadata": {},
     "output_type": "execute_result"
    }
   ],
   "source": [
    "#71 decimal = 1000111\n",
    "bin(71)"
   ]
  },
  {
   "cell_type": "markdown",
   "metadata": {},
   "source": [
    "### Exercise 5\n",
    "When a = 61 and b = 15, what is the result of following bitwise opertion? Use inline comments to show your result in a binary number. Find your answer by hand.\n",
    "\n",
    "    a & b\n",
    "    a | b\n",
    "    a ^ b\n",
    "    a >> 2\n",
    "    "
   ]
  },
  {
   "cell_type": "code",
   "execution_count": 57,
   "metadata": {},
   "outputs": [],
   "source": [
    "a,b = 61,15"
   ]
  },
  {
   "cell_type": "code",
   "execution_count": 58,
   "metadata": {},
   "outputs": [],
   "source": [
    "#from the previous exercise, a = 61 is 111101 binary and b = 15 is 1111 binary"
   ]
  },
  {
   "cell_type": "code",
   "execution_count": 59,
   "metadata": {},
   "outputs": [
    {
     "name": "stdout",
     "output_type": "stream",
     "text": [
      "The result of the bitwise AND of 61 and 15 is 13 decimal or 0b1101 binary\n"
     ]
    }
   ],
   "source": [
    "print(f\"The result of the bitwise AND of {a} and {b} is {a & b} decimal or {bin(a & b)} binary\") #111101\n",
    "                                                                                                 #& 1111\n",
    "                                                                                                 #------\n",
    "                                                                                                 #001101"
   ]
  },
  {
   "cell_type": "code",
   "execution_count": 60,
   "metadata": {},
   "outputs": [
    {
     "name": "stdout",
     "output_type": "stream",
     "text": [
      "The result of the bitwise OR of 61 and 15 is 63 decimal or 0b111111 binary\n"
     ]
    }
   ],
   "source": [
    "print(f\"The result of the bitwise OR of {a} and {b} is {a | b} decimal or {bin(a | b)} binary\") #111101\n",
    "                                                                                                #| 1111\n",
    "                                                                                                #------\n",
    "                                                                                                #111111"
   ]
  },
  {
   "cell_type": "code",
   "execution_count": 61,
   "metadata": {},
   "outputs": [
    {
     "name": "stdout",
     "output_type": "stream",
     "text": [
      "The result of the bitwise XOR of 61 and 15 is 50 decimal or 0b110010 binary\n"
     ]
    }
   ],
   "source": [
    "print(f\"The result of the bitwise XOR of {a} and {b} is {a ^ b} decimal or {bin(a ^ b)} binary\") #111101\n",
    "                                                                                                 #^ 1111\n",
    "                                                                                                 #------\n",
    "                                                                                                 #110010"
   ]
  },
  {
   "cell_type": "code",
   "execution_count": 62,
   "metadata": {},
   "outputs": [
    {
     "name": "stdout",
     "output_type": "stream",
     "text": [
      "The result of the bitwise right shift of 61 by 2 is 15 decimal or 0b1111 binary\n"
     ]
    }
   ],
   "source": [
    "print(f\"The result of the bitwise right shift of {a} by 2 is { a >> 2} decimal or {bin(a >> 2)} binary\")#111101\n",
    "                                                                                                        #>>2\n",
    "                                                                                                        #------\n",
    "                                                                                                        #001111"
   ]
  },
  {
   "cell_type": "code",
   "execution_count": null,
   "metadata": {},
   "outputs": [],
   "source": []
  }
 ],
 "metadata": {
  "kernelspec": {
   "display_name": "Python 3 (ipykernel)",
   "language": "python",
   "name": "python3"
  },
  "language_info": {
   "codemirror_mode": {
    "name": "ipython",
    "version": 3
   },
   "file_extension": ".py",
   "mimetype": "text/x-python",
   "name": "python",
   "nbconvert_exporter": "python",
   "pygments_lexer": "ipython3",
   "version": "3.11.7"
  }
 },
 "nbformat": 4,
 "nbformat_minor": 4
}
